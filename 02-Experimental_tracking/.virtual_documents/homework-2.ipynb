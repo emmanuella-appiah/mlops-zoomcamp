import mlflow





!mlflow --version





# python preprocess_data.py --raw_data_path data --dest_path ./output


import os
folder_path = 'output'
file_count = len([f for f in os.listdir(folder_path)])
print(f"Number of files in {folder_path}:", file_count)





# python train.py --data_path ./output


print("The value of the min_samples_split is 2")





# mlflow server \
#     --backend-store-uri sqlite:///mlflow.db \
#     --default-artifact-root ./artifacts \
#     --host 0.0.0.0 \
#     --port 5000





# python hypo.py --data_path ./output





# python register_model.py --data_path ./output


print('The test RMSE for the best model is 5.567')



