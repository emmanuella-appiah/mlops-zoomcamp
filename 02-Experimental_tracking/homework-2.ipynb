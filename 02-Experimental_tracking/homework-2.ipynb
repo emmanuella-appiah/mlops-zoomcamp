{
 "cells": [
  {
   "cell_type": "code",
   "execution_count": 1,
   "id": "c07ec11a-2f98-45d7-9cbe-50e84a6e481b",
   "metadata": {},
   "outputs": [],
   "source": [
    "import mlflow"
   ]
  },
  {
   "cell_type": "markdown",
   "id": "d11d55e3-d718-43b1-9739-71f0a1cf313b",
   "metadata": {},
   "source": [
    "## Q1. Install MLflow"
   ]
  },
  {
   "cell_type": "code",
   "execution_count": 2,
   "id": "1309f0c3-9466-4f4a-bb73-5f8d1b4605e5",
   "metadata": {},
   "outputs": [
    {
     "name": "stdout",
     "output_type": "stream",
     "text": [
      "mlflow, version 2.17.2\n"
     ]
    }
   ],
   "source": [
    "!mlflow --version"
   ]
  },
  {
   "cell_type": "markdown",
   "id": "7f87ce6c-01cf-4d57-bec6-16764b0672cf",
   "metadata": {},
   "source": [
    "## Q2. Download and preprocess the data"
   ]
  },
  {
   "cell_type": "code",
   "execution_count": 9,
   "id": "463dd151-cfa8-4190-8dfb-96f57ee2e536",
   "metadata": {},
   "outputs": [],
   "source": [
    "# python preprocess_data.py --raw_data_path data --dest_path ./output"
   ]
  },
  {
   "cell_type": "code",
   "execution_count": 14,
   "id": "2dd6eaf0-b3bc-4d55-9d3e-bf005a3fd2a8",
   "metadata": {},
   "outputs": [
    {
     "name": "stdout",
     "output_type": "stream",
     "text": [
      "Number of files in output: 4\n"
     ]
    }
   ],
   "source": [
    "import os\n",
    "folder_path = 'output'\n",
    "file_count = len([f for f in os.listdir(folder_path)])\n",
    "print(f\"Number of files in {folder_path}:\", file_count)"
   ]
  },
  {
   "cell_type": "markdown",
   "id": "9f26f6c7-cdcf-4188-9a0b-3a066d00d0cb",
   "metadata": {},
   "source": [
    "## Q3. Train a model with autolog"
   ]
  },
  {
   "cell_type": "code",
   "execution_count": 15,
   "id": "7c806252-4662-4fa6-93df-6c2e43c7c0b4",
   "metadata": {},
   "outputs": [],
   "source": [
    "# python train.py --data_path ./output"
   ]
  },
  {
   "cell_type": "code",
   "execution_count": 16,
   "id": "1dd3c36a-a7b0-4d94-a967-ab75ed085c59",
   "metadata": {},
   "outputs": [
    {
     "name": "stdout",
     "output_type": "stream",
     "text": [
      "The value of the min_samples_split is 2\n"
     ]
    }
   ],
   "source": [
    "print(\"The value of the min_samples_split is 2\")"
   ]
  },
  {
   "cell_type": "markdown",
   "id": "d6730830-8f27-4774-be81-28a546ad3484",
   "metadata": {},
   "source": [
    "## Q4. Launch the tracking server locally"
   ]
  },
  {
   "cell_type": "code",
   "execution_count": 18,
   "id": "31cdf2ae-6d66-4705-b573-2f3c2794da43",
   "metadata": {},
   "outputs": [],
   "source": [
    "# mlflow server \\\n",
    "#     --backend-store-uri sqlite:///mlflow.db \\\n",
    "#     --default-artifact-root ./artifacts \\\n",
    "#     --host 0.0.0.0 \\\n",
    "#     --port 5000"
   ]
  },
  {
   "cell_type": "markdown",
   "id": "98f54183-0cab-4791-8885-7f451d1f83b1",
   "metadata": {},
   "source": [
    "## Q5. Tune model hyperparameters"
   ]
  },
  {
   "cell_type": "code",
   "execution_count": null,
   "id": "3eacefd8-be29-4b6d-a72a-b326d756d79b",
   "metadata": {},
   "outputs": [],
   "source": [
    "# python hypo.py --data_path ./output"
   ]
  },
  {
   "cell_type": "markdown",
   "id": "4d269a14-b98d-453a-9598-1116cc8c92b1",
   "metadata": {},
   "source": [
    "## Q6. Promote the best model to the model registry"
   ]
  },
  {
   "cell_type": "code",
   "execution_count": null,
   "id": "1b42fb3c-3f89-422e-b2a1-6f4363a6a9ea",
   "metadata": {},
   "outputs": [],
   "source": [
    "# python register_model.py --data_path ./output"
   ]
  },
  {
   "cell_type": "code",
   "execution_count": 20,
   "id": "5ebb5cf6-a2f6-4a2a-bc81-c5f716b198b0",
   "metadata": {},
   "outputs": [
    {
     "name": "stdout",
     "output_type": "stream",
     "text": [
      "The test RMSE for the best model is 5.567\n"
     ]
    }
   ],
   "source": [
    "print('The test RMSE for the best model is 5.567')"
   ]
  },
  {
   "cell_type": "code",
   "execution_count": null,
   "id": "df89c3a8-28d8-40eb-9cc6-4eab3b61d1ca",
   "metadata": {},
   "outputs": [],
   "source": []
  }
 ],
 "metadata": {
  "kernelspec": {
   "display_name": "Python 3",
   "language": "python",
   "name": "python3"
  },
  "language_info": {
   "codemirror_mode": {
    "name": "ipython",
    "version": 3
   },
   "file_extension": ".py",
   "mimetype": "text/x-python",
   "name": "python",
   "nbconvert_exporter": "python",
   "pygments_lexer": "ipython3",
   "version": "3.11.5"
  }
 },
 "nbformat": 4,
 "nbformat_minor": 5
}
